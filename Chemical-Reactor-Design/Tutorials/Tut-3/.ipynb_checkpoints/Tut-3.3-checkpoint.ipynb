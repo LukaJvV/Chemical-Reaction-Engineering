{
 "cells": [
  {
   "cell_type": "code",
   "execution_count": 1,
   "metadata": {},
   "outputs": [],
   "source": [
    "import numpy as np\n",
    "import scipy.integrate"
   ]
  },
  {
   "cell_type": "markdown",
   "metadata": {},
   "source": [
    "Styrene can be produced from ethylbenzene by the following reaction:\n",
    "$$ \\mathrm{ethylbenzene} \\longleftrightarrow \\mathrm{styrene} + \\mathrm{H}_2 (1) $$ \n",
    "However, several irreversible side reactions also occur:\n",
    "$$ \\mathrm{ethylbenzene} \\longrightarrow \\mathrm{benzene} + \\mathrm{ethylene} (2) $$\n",
    "$$ \\mathrm{ethylbenzene} + \\mathrm{H}_2 \\longrightarrow \\mathrm{toluene} + \\mathrm{methane} (3) $$"
   ]
  },
  {
   "cell_type": "markdown",
   "metadata": {},
   "source": [
    "[J. Snyder and B. Subramaniam, Chem. Eng. Sci., 49, 5585 (1994)]. Ethylbenzene is fed at a rate of 0.00344 kmol/s to a 10.0-m3 PFR (PBR), along with inert steam at a total pressure of 2.4 atm. The steam:ethylbenzene molar ratio is initially, i.e., parts (a) to (c), 14.5:1 but can be varied.\n",
    "\n",
    "Given the following data, find the exiting molar flow rates of styrene, benzene, and toluene along with for the following inlet temperatures when the reactor is operated adiabatically:"
   ]
  },
  {
   "cell_type": "code",
   "execution_count": null,
   "metadata": {},
   "outputs": [],
   "source": []
  }
 ],
 "metadata": {
  "kernelspec": {
   "display_name": "Python 3",
   "language": "python",
   "name": "python3"
  },
  "language_info": {
   "codemirror_mode": {
    "name": "ipython",
    "version": 3
   },
   "file_extension": ".py",
   "mimetype": "text/x-python",
   "name": "python",
   "nbconvert_exporter": "python",
   "pygments_lexer": "ipython3",
   "version": "3.7.3"
  }
 },
 "nbformat": 4,
 "nbformat_minor": 2
}
