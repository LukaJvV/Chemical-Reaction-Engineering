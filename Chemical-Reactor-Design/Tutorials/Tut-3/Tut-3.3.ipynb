{
 "cells": [
  {
   "cell_type": "code",
   "execution_count": 1,
   "metadata": {},
   "outputs": [],
   "source": [
    "import numpy as np\n",
    "import scipy.integrate"
   ]
  },
  {
   "cell_type": "markdown",
   "metadata": {},
   "source": [
    "Styrene can be produced from ethylbenzene by the following reaction:\n",
    "$$ \\mathrm{ethylbenzene} \\longleftrightarrow \\mathrm{styrene} + \\mathrm{H}_2 (1) $$ \n",
    "However, several irreversible side reactions also occur:\n",
    "$$ \\mathrm{ethylbenzene} \\longrightarrow \\mathrm{benzene} + \\mathrm{ethylene} (2) $$\n",
    "$$ \\mathrm{ethylbenzene} + \\mathrm{H}_2 \\longrightarrow \\mathrm{toluene} + \\mathrm{methane} (3) $$"
   ]
  },
  {
   "cell_type": "markdown",
   "metadata": {},
   "source": [
    "[J. Snyder and B. Subramaniam, Chem. Eng. Sci., 49, 5585 (1994)]. Ethylbenzene is fed at a rate of 0.00344 kmol/s to a 10.0-m3 PFR (PBR), along with inert steam at a total pressure of 2.4 atm. The steam:ethylbenzene molar ratio is initially, i.e., parts (a) to (c), 14.5:1 but can be varied.\n",
    "\n",
    "Given the following data, find the exiting molar flow rates of styrene, benzene, and toluene along with $S_{St/BT}$ for the following inlet temperatures when the reactor is operated adiabatically:"
   ]
  },
  {
   "cell_type": "markdown",
   "metadata": {},
   "source": [
    "For this problem let the following letters represent each component:\n",
    "\n",
    "Ethylbenzene $\\rightarrow$ A\n",
    "\n",
    "Styrene $\\rightarrow$ B\n",
    "\n",
    "H$_2$ $\\rightarrow$ C\n",
    "\n",
    "Benzene $\\rightarrow$ D\n",
    "\n",
    "Ethylene $\\rightarrow$ E\n",
    "\n",
    "Toluene $\\rightarrow$ F\n",
    "\n",
    "Methane $\\rightarrow$ G\n",
    "\n",
    "Steam $\\rightarrow$ S"
   ]
  },
  {
   "cell_type": "markdown",
   "metadata": {},
   "source": [
    "The reactions thus becomes:\n",
    "$$ A \\longleftrightarrow B + C $$\n",
    "$$ A \\longrightarrow D + E $$\n",
    "$$ A + C \\longrightarrow F + G $$"
   ]
  },
  {
   "cell_type": "markdown",
   "metadata": {},
   "source": [
    "# Parameters"
   ]
  },
  {
   "cell_type": "code",
   "execution_count": 6,
   "metadata": {},
   "outputs": [],
   "source": [
    "Cpa = 299 # kJ/kmol.K\n",
    "Cpb = 273 # kJ/kmol.K\n",
    "Cpc = 30 # kJ/kmol.K\n",
    "Cpd = 201 # kJ/kmol.K\n",
    "Cpe = 90 # kJ/kmol.K\n",
    "Cpf = 249 # kJ/kmol.K\n",
    "Cpg = 68 # kJ/kmol.K\n",
    "Cps = 40 # kJ/kmol.K\n",
    "\n",
    "FAo = 0.00344 # kmol/s\n",
    "V = 10 # m^3\n",
    "FSo = FAo*14.5\n",
    "FBo = FCo = FDo = FEo = FFo = FGo = 0\n",
    "Tref = 300 # K\n",
    "rho = 2137 # kg/m^3 of pellet\n",
    "phi = 0.4\n",
    "Po = 2.4 # atm\n",
    "R = 0.082055 # atm.m^3/(K.Kmol)\n",
    "\n",
    "DelHRX1 = 118000 # kJ/kmol A\n",
    "DelHRX2 = 105200 # kJ/kmol A\n",
    "DelHRX3 = -53900 # kJ/kmol A\n",
    "\n",
    "DelCp1 = Cpb + Cpc - Cpa\n",
    "DelCp2 = Cpd + Cpe - Cpa\n",
    "DelCp3 = Cpf + Cpg - Cpa - Cpc\n",
    "\n",
    "b1 = -17.34\n",
    "b2 = -1.302e4\n",
    "b3 = 5.051\n",
    "b4 = -2.314e-10\n",
    "b5 = 1.302e-6\n",
    "b6 = -4.931e-3"
   ]
  },
  {
   "cell_type": "markdown",
   "metadata": {},
   "source": [
    "# Kinetics"
   ]
  },
  {
   "cell_type": "code",
   "execution_count": 3,
   "metadata": {},
   "outputs": [],
   "source": [
    "def Kp1(T): # atm\n",
    "    return np.exp(b1 + b2/T + b3*np.log(T) + ((b4*T + b5)*T + b6)*T )\n",
    "\n",
    "def r1Bf(T, PA, PB, PC):\n",
    "    return rho*(1-phi)*np.exp(-0.08539-10925/T)*(PA - PB*PC/Kp1(T))\n",
    "\n",
    "def r2Df(T, PA):\n",
    "    return rho*(1-phi)*np.exp(13.2392 - 25000/T)*PA\n",
    "\n",
    "def r3Ff(T, PA, PC):\n",
    "    return rho*(1-phi)*np.exp(0.2961 - 11000/T)*PA*PC"
   ]
  },
  {
   "cell_type": "markdown",
   "metadata": {},
   "source": [
    "# a)\n",
    "$ T_o = 800 K $"
   ]
  },
  {
   "cell_type": "code",
   "execution_count": 4,
   "metadata": {},
   "outputs": [],
   "source": [
    "To = 800 # K"
   ]
  },
  {
   "cell_type": "code",
   "execution_count": 5,
   "metadata": {},
   "outputs": [],
   "source": [
    "def DEs(V, var):\n",
    "    FA, FB, FC, FD, FE, FF, FG, FS, T, P = var\n",
    "    FT = FA + FB + FC + FD + FE + FF + FG + FS\n",
    "\n",
    "    PA = FA/FT*P\n",
    "    PB = FB/FT*P\n",
    "    PC = FC/FT*P\n",
    "\n",
    "    r1B = r1C = r1Bf(T, PA, PB, PC)\n",
    "    r1A = -r1B\n",
    "    r2D = r2E = r2Df(T, PA)\n",
    "    r2A = -r2D\n",
    "    r3F = r3G = r3Ff(T, PA, PC)\n",
    "    r3A = r3C = -r3F\n",
    "\n",
    "    dFAdV = r1A + r2A + r3A\n",
    "    dFBdV = r1B\n",
    "    dFCdV = r1C + r3C\n",
    "    dFDdV = r2D\n",
    "    dFEdV = r2E\n",
    "    dFFdV = r3F\n",
    "    dFGdV = r3G\n",
    "\n",
    "    denom = FA*Cpa + FB*Cpb + FC*Cpc + FD*Cpd + FE*Cpe + FF*Cpf + FG*Cpg + FS*Cps\n",
    "    RX1 = r1A*(DelHRX1 + DelCp1*(T-300))\n",
    "    RX2 = r2A*(DelHRX2 + DelCp2*(T-300))\n",
    "    RX3 = r3A*(DelHRX3 + DelCp3*(T-300))\n",
    "    num = RX1 + RX2 + RX3\n",
    "    dTdV = num/denom\n",
    "    dPdV = 0\n",
    "    \n",
    "\n",
    "    return [dFAdV, dFBdV, dFCdV, dFDdV, dFEdV, dFFdV, dFGdV, 0, dTdV, dPdV]"
   ]
  },
  {
   "cell_type": "code",
   "execution_count": 7,
   "metadata": {},
   "outputs": [],
   "source": [
    "Vrange = [0, 10]\n",
    "init = np.array([FAo, FBo, FCo, FDo, FEo, FFo, FGo, FSo, To, Po])\n",
    "SolA = scipy.integrate.solve_ivp(DEs, Vrange, init, dense_output=True)"
   ]
  },
  {
   "cell_type": "code",
   "execution_count": 13,
   "metadata": {},
   "outputs": [
    {
     "output_type": "stream",
     "name": "stdout",
     "text": "T_outlet =  765.0 K\n"
    }
   ],
   "source": [
    "print('T_outlet = ', round(SolA.y[-2][-1], 0), 'K')"
   ]
  },
  {
   "cell_type": "markdown",
   "metadata": {},
   "source": [
    "# b)"
   ]
  },
  {
   "cell_type": "code",
   "execution_count": null,
   "metadata": {},
   "outputs": [],
   "source": []
  }
 ],
 "metadata": {
  "kernelspec": {
   "display_name": "Python 3",
   "language": "python",
   "name": "python3"
  },
  "language_info": {
   "codemirror_mode": {
    "name": "ipython",
    "version": 3
   },
   "file_extension": ".py",
   "mimetype": "text/x-python",
   "name": "python",
   "nbconvert_exporter": "python",
   "pygments_lexer": "ipython3",
   "version": "3.7.3-final"
  }
 },
 "nbformat": 4,
 "nbformat_minor": 2
}