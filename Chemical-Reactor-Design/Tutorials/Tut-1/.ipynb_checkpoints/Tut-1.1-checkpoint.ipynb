{
 "cells": [
  {
   "cell_type": "code",
   "execution_count": 1,
   "metadata": {},
   "outputs": [],
   "source": [
    "import numpy as np\n",
    "import scipy.integrate\n",
    "%matplotlib inline\n",
    "import matplotlib.pyplot as plt"
   ]
  },
  {
   "cell_type": "markdown",
   "metadata": {},
   "source": [
    "A liquid phase reaction (stoichiometry given below) needs to be processed in a continuous reacor system (operated isothermally).\n",
    "$$ A + P \\rightarrow 2P $$\n",
    "Details on the reaction rate (based on component A) are given below:\n",
    "$$ -r_A = kC_AC_B $$\n",
    "$$ k = 1 \\frac{l}{mol.min} $$\n",
    "A feed with $C_{Ao}$ = 1 $ \\frac{mol}{l}$ and $C_{Po}$ = 0.02 $ \\frac{mol}{l}$ is fed to the reactor at a flow rate of Q =\n",
    "2.5 $ \\frac{l}{min}$. A conversion of $A$ of 85% is required."
   ]
  },
  {
   "cell_type": "code",
   "execution_count": null,
   "metadata": {},
   "outputs": [],
   "source": []
  }
 ],
 "metadata": {
  "kernelspec": {
   "display_name": "Python 3",
   "language": "python",
   "name": "python3"
  },
  "language_info": {
   "codemirror_mode": {
    "name": "ipython",
    "version": 3
   },
   "file_extension": ".py",
   "mimetype": "text/x-python",
   "name": "python",
   "nbconvert_exporter": "python",
   "pygments_lexer": "ipython3",
   "version": "3.7.3"
  }
 },
 "nbformat": 4,
 "nbformat_minor": 2
}
